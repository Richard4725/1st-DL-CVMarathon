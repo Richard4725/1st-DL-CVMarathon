{
 "cells": [
  {
   "cell_type": "markdown",
   "metadata": {},
   "source": [
    "## 『本次練習內容』\n",
    "#### 運用這幾天所學觀念搭建一個CNN分類器"
   ]
  },
  {
   "cell_type": "markdown",
   "metadata": {},
   "source": [
    "## 『本次練習目的』\n",
    "  #### 熟悉CNN分類器搭建步驟與原理\n",
    "  #### 學員們可以嘗試不同搭法，如使用不同的Maxpooling層，用GlobalAveragePooling取代Flatten等等"
   ]
  },
  {
   "cell_type": "code",
   "execution_count": 1,
   "metadata": {},
   "outputs": [
    {
     "name": "stderr",
     "output_type": "stream",
     "text": [
      "Using TensorFlow backend.\n"
     ]
    }
   ],
   "source": [
    "from keras.models import Sequential\n",
    "from keras.layers import Convolution2D\n",
    "from keras.layers import MaxPooling2D\n",
    "from keras.layers import Flatten\n",
    "from keras.layers import Dense\n",
    "from keras.layers import Dropout\n",
    "from keras.layers import BatchNormalization\n",
    "from keras.datasets import cifar10\n",
    "import numpy as np\n",
    "import tensorflow as tf\n",
    "from sklearn.preprocessing import OneHotEncoder\n"
   ]
  },
  {
   "cell_type": "code",
   "execution_count": 2,
   "metadata": {},
   "outputs": [
    {
     "name": "stdout",
     "output_type": "stream",
     "text": [
      "(50000, 32, 32, 3)\n"
     ]
    }
   ],
   "source": [
    "(x_train, y_train), (x_test, y_test) = cifar10.load_data()\n",
    "\n",
    "print(x_train.shape) #(50000, 32, 32, 3)\n",
    "\n",
    "## Normalize Data\n",
    "def normalize(X_train,X_test):\n",
    "        mean = np.mean(X_train,axis=(0,1,2,3))\n",
    "        std = np.std(X_train, axis=(0, 1, 2, 3))\n",
    "        X_train = (X_train-mean)/(std+1e-7)\n",
    "        X_test = (X_test-mean)/(std+1e-7) \n",
    "        return X_train, X_test,mean,std\n",
    "    \n",
    "    \n",
    "## Normalize Training and Testset    \n",
    "x_train, x_test,mean_train,std_train = normalize(x_train, x_test) "
   ]
  },
  {
   "cell_type": "code",
   "execution_count": 3,
   "metadata": {},
   "outputs": [
    {
     "name": "stderr",
     "output_type": "stream",
     "text": [
      "D:\\Users\\richard\\Anaconda3\\envs\\tensorflowgpuenv\\lib\\site-packages\\sklearn\\preprocessing\\_encoders.py:415: FutureWarning: The handling of integer data will change in version 0.22. Currently, the categories are determined based on the range [0, max(values)], while in the future they will be determined based on the unique values.\n",
      "If you want the future behaviour and silence this warning, you can specify \"categories='auto'\".\n",
      "In case you used a LabelEncoder before this OneHotEncoder to convert the categories to integers, then you can now use the OneHotEncoder directly.\n",
      "  warnings.warn(msg, FutureWarning)\n"
     ]
    }
   ],
   "source": [
    "## OneHot Label 由(None, 1)-(None, 10)\n",
    "## ex. label=2,變成[0,0,1,0,0,0,0,0,0,0]\n",
    "one_hot=OneHotEncoder()\n",
    "y_train=one_hot.fit_transform(y_train).toarray()\n",
    "y_test=one_hot.transform(y_test).toarray()"
   ]
  },
  {
   "cell_type": "code",
   "execution_count": 11,
   "metadata": {},
   "outputs": [
    {
     "name": "stderr",
     "output_type": "stream",
     "text": [
      "D:\\Users\\richard\\Anaconda3\\envs\\tensorflowgpuenv\\lib\\site-packages\\ipykernel_launcher.py:26: UserWarning: Update your `Dense` call to the Keras 2 API: `Dense(activation=\"relu\", units=10)`\n"
     ]
    },
    {
     "name": "stdout",
     "output_type": "stream",
     "text": [
      "Epoch 1/100\n",
      "50000/50000 [==============================] - 24s 488us/step - loss: 2.3739 - accuracy: 0.3224\n",
      "Epoch 2/100\n",
      "50000/50000 [==============================] - 17s 342us/step - loss: 1.9994 - accuracy: 0.3391\n",
      "Epoch 3/100\n",
      "50000/50000 [==============================] - 17s 341us/step - loss: 1.8457 - accuracy: 0.3887\n",
      "Epoch 4/100\n",
      "50000/50000 [==============================] - 17s 341us/step - loss: 1.8094 - accuracy: 0.3973\n",
      "Epoch 5/100\n",
      "50000/50000 [==============================] - 17s 340us/step - loss: 1.7458 - accuracy: 0.4107\n",
      "Epoch 6/100\n",
      "50000/50000 [==============================] - 17s 341us/step - loss: 1.9926 - accuracy: 0.3645\n",
      "Epoch 7/100\n",
      "50000/50000 [==============================] - 17s 342us/step - loss: 2.1250 - accuracy: 0.2298\n",
      "Epoch 8/100\n",
      "50000/50000 [==============================] - 17s 341us/step - loss: 1.9282 - accuracy: 0.3063\n",
      "Epoch 9/100\n",
      "50000/50000 [==============================] - 17s 341us/step - loss: 1.8230 - accuracy: 0.3642\n",
      "Epoch 10/100\n",
      "50000/50000 [==============================] - 17s 341us/step - loss: 1.7493 - accuracy: 0.3920\n",
      "Epoch 11/100\n",
      "50000/50000 [==============================] - 17s 341us/step - loss: 1.6838 - accuracy: 0.4271\n",
      "Epoch 12/100\n",
      "50000/50000 [==============================] - 17s 342us/step - loss: 1.6675 - accuracy: 0.4575\n",
      "Epoch 13/100\n",
      "50000/50000 [==============================] - 17s 342us/step - loss: 1.6361 - accuracy: 0.4667\n",
      "Epoch 14/100\n",
      "50000/50000 [==============================] - 17s 341us/step - loss: 1.6440 - accuracy: 0.4610\n",
      "Epoch 15/100\n",
      "50000/50000 [==============================] - 17s 342us/step - loss: 1.8940 - accuracy: 0.3450\n",
      "Epoch 16/100\n",
      "50000/50000 [==============================] - 17s 341us/step - loss: 1.7953 - accuracy: 0.3455\n",
      "Epoch 17/100\n",
      "50000/50000 [==============================] - 17s 342us/step - loss: 1.6851 - accuracy: 0.3957\n",
      "Epoch 18/100\n",
      "50000/50000 [==============================] - 17s 341us/step - loss: 1.6383 - accuracy: 0.4340\n",
      "Epoch 19/100\n",
      "50000/50000 [==============================] - 17s 342us/step - loss: 2.0396 - accuracy: 0.3005\n",
      "Epoch 20/100\n",
      "50000/50000 [==============================] - 17s 341us/step - loss: 1.7083 - accuracy: 0.4173\n",
      "Epoch 21/100\n",
      "50000/50000 [==============================] - 17s 341us/step - loss: 1.6666 - accuracy: 0.4405\n",
      "Epoch 22/100\n",
      "50000/50000 [==============================] - 17s 341us/step - loss: 1.6194 - accuracy: 0.4573\n",
      "Epoch 23/100\n",
      "50000/50000 [==============================] - 17s 341us/step - loss: 1.6036 - accuracy: 0.4624\n",
      "Epoch 24/100\n",
      "50000/50000 [==============================] - 17s 341us/step - loss: 1.5672 - accuracy: 0.4875\n",
      "Epoch 25/100\n",
      "50000/50000 [==============================] - 17s 341us/step - loss: 1.6214 - accuracy: 0.4876\n",
      "Epoch 26/100\n",
      "50000/50000 [==============================] - 17s 342us/step - loss: 1.6182 - accuracy: 0.4657\n",
      "Epoch 27/100\n",
      "50000/50000 [==============================] - 17s 342us/step - loss: 1.7299 - accuracy: 0.4296\n",
      "Epoch 28/100\n",
      "50000/50000 [==============================] - 17s 341us/step - loss: 1.6448 - accuracy: 0.4383\n",
      "Epoch 29/100\n",
      "50000/50000 [==============================] - 17s 341us/step - loss: 1.5235 - accuracy: 0.4833\n",
      "Epoch 30/100\n",
      "50000/50000 [==============================] - 17s 341us/step - loss: 1.5002 - accuracy: 0.5082\n",
      "Epoch 31/100\n",
      "50000/50000 [==============================] - 17s 341us/step - loss: 1.8288 - accuracy: 0.3977\n",
      "Epoch 32/100\n",
      "50000/50000 [==============================] - 17s 341us/step - loss: 1.6449 - accuracy: 0.4488\n",
      "Epoch 33/100\n",
      "50000/50000 [==============================] - 17s 342us/step - loss: 1.7182 - accuracy: 0.4231\n",
      "Epoch 34/100\n",
      "50000/50000 [==============================] - 17s 341us/step - loss: 1.5817 - accuracy: 0.4744\n",
      "Epoch 35/100\n",
      "50000/50000 [==============================] - 17s 342us/step - loss: 1.5273 - accuracy: 0.5055\n",
      "Epoch 36/100\n",
      "50000/50000 [==============================] - 17s 342us/step - loss: 1.5338 - accuracy: 0.5161\n",
      "Epoch 37/100\n",
      "50000/50000 [==============================] - 17s 342us/step - loss: 1.6946 - accuracy: 0.4262\n",
      "Epoch 38/100\n",
      "50000/50000 [==============================] - 17s 346us/step - loss: 1.5550 - accuracy: 0.4858\n",
      "Epoch 39/100\n",
      "50000/50000 [==============================] - 17s 341us/step - loss: 1.5037 - accuracy: 0.5165\n",
      "Epoch 40/100\n",
      "50000/50000 [==============================] - 17s 341us/step - loss: 1.4432 - accuracy: 0.5306\n",
      "Epoch 41/100\n",
      "50000/50000 [==============================] - 17s 342us/step - loss: 1.4168 - accuracy: 0.5415\n",
      "Epoch 42/100\n",
      "50000/50000 [==============================] - 17s 342us/step - loss: 1.4714 - accuracy: 0.5308\n",
      "Epoch 43/100\n",
      "50000/50000 [==============================] - 17s 341us/step - loss: 1.4101 - accuracy: 0.5424\n",
      "Epoch 44/100\n",
      "50000/50000 [==============================] - 17s 341us/step - loss: 1.4590 - accuracy: 0.5167\n",
      "Epoch 45/100\n",
      "50000/50000 [==============================] - 17s 341us/step - loss: 1.4507 - accuracy: 0.5281\n",
      "Epoch 46/100\n",
      "50000/50000 [==============================] - 17s 341us/step - loss: 1.4561 - accuracy: 0.5270\n",
      "Epoch 47/100\n",
      "50000/50000 [==============================] - 17s 344us/step - loss: 1.3752 - accuracy: 0.5530\n",
      "Epoch 48/100\n",
      "50000/50000 [==============================] - 17s 347us/step - loss: 1.4234 - accuracy: 0.5423\n",
      "Epoch 49/100\n",
      "50000/50000 [==============================] - 17s 342us/step - loss: 1.3778 - accuracy: 0.5537\n",
      "Epoch 50/100\n",
      "50000/50000 [==============================] - 17s 340us/step - loss: 1.2997 - accuracy: 0.5775\n",
      "Epoch 51/100\n",
      "50000/50000 [==============================] - 17s 340us/step - loss: 1.3682 - accuracy: 0.5660\n",
      "Epoch 52/100\n",
      "50000/50000 [==============================] - 17s 341us/step - loss: 1.4147 - accuracy: 0.5554\n",
      "Epoch 53/100\n",
      "50000/50000 [==============================] - 17s 341us/step - loss: 1.4946 - accuracy: 0.5171\n",
      "Epoch 54/100\n",
      "50000/50000 [==============================] - 17s 340us/step - loss: 1.3476 - accuracy: 0.5533\n",
      "Epoch 55/100\n",
      "50000/50000 [==============================] - 17s 341us/step - loss: 1.2954 - accuracy: 0.5794\n",
      "Epoch 56/100\n",
      "50000/50000 [==============================] - 31s 622us/step - loss: 1.2600 - accuracy: 0.5908\n",
      "Epoch 57/100\n",
      "50000/50000 [==============================] - 17s 346us/step - loss: 1.3377 - accuracy: 0.5664\n",
      "Epoch 58/100\n",
      "50000/50000 [==============================] - 17s 343us/step - loss: 1.2873 - accuracy: 0.5703\n",
      "Epoch 59/100\n",
      "50000/50000 [==============================] - 17s 342us/step - loss: 1.2490 - accuracy: 0.5886\n",
      "Epoch 60/100\n",
      "50000/50000 [==============================] - 17s 342us/step - loss: 1.2319 - accuracy: 0.5996\n",
      "Epoch 61/100\n",
      "50000/50000 [==============================] - 17s 342us/step - loss: 1.4478 - accuracy: 0.5327\n",
      "Epoch 62/100\n",
      "50000/50000 [==============================] - 17s 342us/step - loss: 1.3157 - accuracy: 0.5698\n",
      "Epoch 63/100\n",
      "50000/50000 [==============================] - 17s 342us/step - loss: 1.2574 - accuracy: 0.5985\n",
      "Epoch 64/100\n",
      "50000/50000 [==============================] - 17s 343us/step - loss: 1.2056 - accuracy: 0.6137\n",
      "Epoch 65/100\n",
      "50000/50000 [==============================] - 17s 342us/step - loss: 1.2147 - accuracy: 0.6152\n",
      "Epoch 66/100\n",
      "50000/50000 [==============================] - 17s 343us/step - loss: 1.2099 - accuracy: 0.6100\n",
      "Epoch 67/100\n",
      "50000/50000 [==============================] - 17s 342us/step - loss: 1.1410 - accuracy: 0.6315\n",
      "Epoch 68/100\n",
      "50000/50000 [==============================] - 17s 342us/step - loss: 1.2951 - accuracy: 0.6034\n",
      "Epoch 69/100\n",
      "50000/50000 [==============================] - 17s 341us/step - loss: 1.2311 - accuracy: 0.6034\n",
      "Epoch 70/100\n",
      "50000/50000 [==============================] - 17s 342us/step - loss: 1.2565 - accuracy: 0.5961\n",
      "Epoch 71/100\n",
      "50000/50000 [==============================] - 17s 342us/step - loss: 1.3089 - accuracy: 0.5860\n",
      "Epoch 72/100\n",
      "50000/50000 [==============================] - 17s 342us/step - loss: 1.3414 - accuracy: 0.5754\n",
      "Epoch 73/100\n",
      "50000/50000 [==============================] - 18s 358us/step - loss: 1.3131 - accuracy: 0.5659\n",
      "Epoch 74/100\n",
      "50000/50000 [==============================] - 17s 346us/step - loss: 1.2517 - accuracy: 0.5980\n",
      "Epoch 75/100\n",
      "50000/50000 [==============================] - 17s 344us/step - loss: 1.1621 - accuracy: 0.6249\n",
      "Epoch 76/100\n",
      "50000/50000 [==============================] - 17s 344us/step - loss: 1.1933 - accuracy: 0.6184\n",
      "Epoch 77/100\n",
      "50000/50000 [==============================] - 17s 344us/step - loss: 1.1076 - accuracy: 0.6428\n",
      "Epoch 78/100\n",
      "50000/50000 [==============================] - 17s 344us/step - loss: 1.4065 - accuracy: 0.5586\n",
      "Epoch 79/100\n",
      "50000/50000 [==============================] - 17s 346us/step - loss: 1.2764 - accuracy: 0.5765\n",
      "Epoch 80/100\n",
      "50000/50000 [==============================] - 17s 343us/step - loss: 1.2563 - accuracy: 0.5998\n",
      "Epoch 81/100\n",
      "50000/50000 [==============================] - 17s 344us/step - loss: 1.1563 - accuracy: 0.6268\n",
      "Epoch 82/100\n",
      "50000/50000 [==============================] - 17s 345us/step - loss: 1.1912 - accuracy: 0.6219\n",
      "Epoch 83/100\n",
      "50000/50000 [==============================] - 17s 344us/step - loss: 1.0810 - accuracy: 0.6523\n",
      "Epoch 84/100\n",
      "50000/50000 [==============================] - 17s 344us/step - loss: 1.0491 - accuracy: 0.6585\n",
      "Epoch 85/100\n",
      "50000/50000 [==============================] - 17s 344us/step - loss: 1.0500 - accuracy: 0.6625\n",
      "Epoch 86/100\n",
      "50000/50000 [==============================] - 17s 344us/step - loss: 1.0408 - accuracy: 0.6633\n",
      "Epoch 87/100\n",
      "50000/50000 [==============================] - 17s 344us/step - loss: 1.0797 - accuracy: 0.6596\n",
      "Epoch 88/100\n",
      "50000/50000 [==============================] - 17s 345us/step - loss: 1.1000 - accuracy: 0.6478\n",
      "Epoch 89/100\n",
      "50000/50000 [==============================] - 17s 344us/step - loss: 1.0000 - accuracy: 0.6654\n",
      "Epoch 90/100\n",
      "50000/50000 [==============================] - 17s 345us/step - loss: 1.1531 - accuracy: 0.6232\n",
      "Epoch 91/100\n",
      "50000/50000 [==============================] - 18s 361us/step - loss: 0.9918 - accuracy: 0.6726\n",
      "Epoch 92/100\n",
      "50000/50000 [==============================] - 17s 349us/step - loss: 1.0382 - accuracy: 0.6716\n",
      "Epoch 93/100\n",
      "50000/50000 [==============================] - 17s 347us/step - loss: 1.1475 - accuracy: 0.6391\n",
      "Epoch 94/100\n",
      "50000/50000 [==============================] - 17s 343us/step - loss: 1.2789 - accuracy: 0.6158\n",
      "Epoch 95/100\n",
      "50000/50000 [==============================] - 17s 343us/step - loss: 1.0960 - accuracy: 0.6412\n",
      "Epoch 96/100\n",
      "50000/50000 [==============================] - 17s 342us/step - loss: 1.0623 - accuracy: 0.6456\n",
      "Epoch 97/100\n",
      "50000/50000 [==============================] - 17s 343us/step - loss: 0.9851 - accuracy: 0.6704\n",
      "Epoch 98/100\n",
      "50000/50000 [==============================] - 17s 341us/step - loss: 0.9363 - accuracy: 0.6879\n",
      "Epoch 99/100\n",
      "50000/50000 [==============================] - 17s 342us/step - loss: 0.9436 - accuracy: 0.6929\n",
      "Epoch 100/100\n",
      "50000/50000 [==============================] - 17s 341us/step - loss: 0.9275 - accuracy: 0.6988\n"
     ]
    },
    {
     "data": {
      "text/plain": [
       "<keras.callbacks.callbacks.History at 0x2096b4615f8>"
      ]
     },
     "execution_count": 11,
     "metadata": {},
     "output_type": "execute_result"
    }
   ],
   "source": [
    "\n",
    "classifier=Sequential()\n",
    "input_shape=(32,32,3)\n",
    "\n",
    "#卷積組合\n",
    "#32,3,3,input_shape=(32,32,3),activation='relu''\n",
    "classifier.add(Convolution2D(32, kernel_size=(3, 3), padding='same',input_shape=input_shape,activation='relu'))\n",
    "\n",
    "classifier.add(BatchNormalization())\n",
    "\n",
    "\n",
    "\n",
    "'''自己決定MaxPooling2D放在哪裡'''\n",
    "classifier.add(MaxPooling2D(pool_size=(2,2)))\n",
    "\n",
    "#卷積組合\n",
    "classifier.add(Convolution2D(32, kernel_size=(3, 3), padding='same',input_shape=input_shape,activation='relu'))\n",
    "classifier.add(BatchNormalization())\n",
    "\n",
    "#flatten\n",
    "classifier.add(Flatten())\n",
    "\n",
    "#FC\n",
    "classifier.add(Dense(100,activation='relu')) #output_dim=100,activation=relu\n",
    "\n",
    "#輸出\n",
    "classifier.add(Dense(output_dim=10,activation='relu'))\n",
    "\n",
    "#超過兩個就要選categorical_crossentrophy\n",
    "classifier.compile(optimizer = 'adam', loss = 'categorical_crossentropy', metrics = ['accuracy'])\n",
    "classifier.fit(x_train,y_train,batch_size=100,epochs=100)"
   ]
  },
  {
   "cell_type": "markdown",
   "metadata": {},
   "source": [
    "## 預測新圖片，輸入影像前處理要與訓練時相同\n",
    "#### ((X-mean)/(std+1e-7) ):這裡的mean跟std是訓練集的\n",
    "## 維度如下方示範"
   ]
  },
  {
   "cell_type": "code",
   "execution_count": 12,
   "metadata": {},
   "outputs": [
    {
     "data": {
      "text/plain": [
       "array([[283.1335  ,   0.      , 377.9493  , 354.6564  ,   0.      ,\n",
       "         10.643663,   0.      ,   0.      ,   0.      ,   0.      ]],\n",
       "      dtype=float32)"
      ]
     },
     "execution_count": 12,
     "metadata": {},
     "output_type": "execute_result"
    }
   ],
   "source": [
    "input_example=(np.zeros(shape=(1,32,32,3))-mean_train)/(std_train+1e-7) \n",
    "classifier.predict(input_example)"
   ]
  },
  {
   "cell_type": "code",
   "execution_count": null,
   "metadata": {},
   "outputs": [],
   "source": []
  }
 ],
 "metadata": {
  "kernelspec": {
   "display_name": "Python 3",
   "language": "python",
   "name": "python3"
  },
  "language_info": {
   "codemirror_mode": {
    "name": "ipython",
    "version": 3
   },
   "file_extension": ".py",
   "mimetype": "text/x-python",
   "name": "python",
   "nbconvert_exporter": "python",
   "pygments_lexer": "ipython3",
   "version": "3.6.9"
  }
 },
 "nbformat": 4,
 "nbformat_minor": 2
}
