{
  "cells": [
    {
      "cell_type": "markdown",
      "metadata": {
        "id": "view-in-github",
        "colab_type": "text"
      },
      "source": [
        "<a href=\"https://colab.research.google.com/github/Richard4725/1st-DL-CVMarathon/blob/master/%E3%80%8C2024_Data_Science(I)_20240929_students_ipynb%E3%80%8D%E7%9A%84%E5%89%AF%E6%9C%AC.ipynb\" target=\"_parent\"><img src=\"https://colab.research.google.com/assets/colab-badge.svg\" alt=\"Open In Colab\"/></a>"
      ]
    },
    {
      "cell_type": "markdown",
      "metadata": {
        "id": "xtfhWZeghso0"
      },
      "source": [
        "# MNIST 手寫數字辨識使用卷積神經網絡(CNN)"
      ]
    },
    {
      "cell_type": "markdown",
      "metadata": {
        "id": "ffjv6b3phso2"
      },
      "source": [
        "![cnn](https://www.cntk.ai/jup/cntk103d_convonly2.png)\n",
        "\n",
        "圖片出處:[CNTK_103D_MNIST_ConvolutionalNeuralNetwork](https://cntk.ai/pythondocs/CNTK_103C_MNIST_MultiLayerPerceptron.html)"
      ]
    },
    {
      "cell_type": "markdown",
      "metadata": {
        "id": "Pf5vBaSNhso2"
      },
      "source": [
        "## CNN 卷積神經網路簡介\n",
        "\n",
        "### STEP1. 卷積神經網路介紹\n",
        "\n",
        "CNN 卷積神經網路可以分成兩大部分:\n",
        "* 影像的特徵提取: 透過 Convolution 與 Max Pooling 提取影像特徵.\n",
        "* Fully connected Feedforward network: Flatten layers, hidden layers and output layers"
      ]
    },
    {
      "cell_type": "markdown",
      "metadata": {
        "id": "oVFVgMWWhso3"
      },
      "source": [
        "![cnn](https://2.bp.blogspot.com/-lo4ANmafiQM/WVpEeo68VPI/AAAAAAAAWxE/7FJBUGp-GrQFL5fUYEg6tQAJWXUHrtgWgCLcBGAs/s1600/3812_1.png)"
      ]
    },
    {
      "cell_type": "markdown",
      "metadata": {
        "id": "l1D1mnY2hso3"
      },
      "source": [
        "### STEP2. 卷積運算 (Convolution)\n",
        "\n",
        "卷積運算的原理是將一個影像透過卷積運算的 Filter weight(s) 產生多個影像, 在上面第一層的 Convolution 為例:\n",
        "1. 先以隨機方式產生 16 個 3x3 的 filter weight(s)\n",
        "2. 要轉換的影像由左而右, 由上而下透過 filter weight 產生新影像的值\n",
        "3. 使用 16 個 filter weight 產生 16 個影像"
      ]
    },
    {
      "cell_type": "markdown",
      "metadata": {
        "id": "jxqITQ65hso3"
      },
      "source": [
        "![convolution](https://4.bp.blogspot.com/-65gO4Ylb-pU/WVpEj04De1I/AAAAAAAAWxI/Y3wX2OYjzJYddDYCaH24-Swmhj7Q9U8iACLcBGAs/s1600/3591_1.PNG)"
      ]
    },
    {
      "cell_type": "markdown",
      "metadata": {
        "id": "GUQwKKHzhso3"
      },
      "source": [
        "### STEP3. 池化運算 (Max-Pooling)\n",
        "Max-Pool 運算可以將影像縮減取樣 (downsampling), 如下圖: 原本影像是 4x4, 經過 Max-Pool 運算後, 影像大小為 2x2:"
      ]
    },
    {
      "cell_type": "markdown",
      "metadata": {
        "id": "WtgiDhCrhso3"
      },
      "source": [
        "![maxpool](https://4.bp.blogspot.com/-HCaeeLJ9PSI/WVpEpg-qWiI/AAAAAAAAWxM/v4Qg8BAHuxAaC9Eoe2JZWY8jdt_vyCy8gCLcBGAs/s1600/3591_2.PNG)"
      ]
    },
    {
      "cell_type": "markdown",
      "metadata": {
        "id": "3OkUzq0khso4"
      },
      "source": [
        "downsampling 有以下好處:\n",
        "* 減少需要處理的資料點: 減少後續運算所需時間.\n",
        "* 讓影像位置的差異變小: 例如手寫數字 7, 位置上下左右可能不同, 但是位置不同可能影響辨識. 減少影像大小讓數字的位置差異變小.\n",
        "* 參數的數量和計算量下降: 這在一定程度上也控制了 Overfitting 的狀況."
      ]
    },
    {
      "cell_type": "markdown",
      "metadata": {
        "id": "qX79bU41hso4"
      },
      "source": [
        "## 進行資料前處理 (Preprocess)\n",
        "CNN (Convolution Neural Network) 與 MLP 進行資料的前處理方式有所不同, 說明如下:\n",
        "\n",
        "* MLP : image reshape (60000, 784): MLP 因為直接送進神經元處理, 所以 60,000 筆的每一筆圖像(28x28)轉換為 784 個神經元輸入。\n",
        "* CNN : image reshape (60000, 28, 28, 1): CNN 因為必須先進行卷積與池化 (Max-Pool) 運算, 所以必須保留影像的維度. 因此 60,000 筆的每一筆圖像(28x28)轉換成 28 (長) x 28(寬) x 1(圖像頻道) 的影像單位。"
      ]
    },
    {
      "cell_type": "markdown",
      "metadata": {
        "id": "734U0RwHhso4"
      },
      "source": [
        "### STEP1. 資料讀取與轉換"
      ]
    },
    {
      "cell_type": "code",
      "execution_count": null,
      "metadata": {
        "colab": {
          "background_save": true,
          "base_uri": "https://localhost:8080/"
        },
        "id": "dc6Y4dDthso4",
        "outputId": "f948cb03-2cae-4883-fa76-1e7d560149a0"
      },
      "outputs": [
        {
          "name": "stdout",
          "output_type": "stream",
          "text": [
            "train data= (60000, 28, 28)\n",
            "test  data= (10000, 28, 28)\n"
          ]
        }
      ],
      "source": [
        "from keras.datasets import mnist\n",
        "from keras.utils import to_categorical\n",
        "import matplotlib.pyplot as plt\n",
        "import numpy as np\n",
        "\n",
        "np.random.seed(10)\n",
        "\n",
        "# Read MNIST data\n",
        "(X_Train, y_Train), (X_Test, y_Test) = mnist.load_data()\n",
        "\n",
        "print(\"train data=\",X_Train.shape)\n",
        "print(\"test  data=\",X_Test.shape)"
      ]
    },
    {
      "cell_type": "code",
      "execution_count": null,
      "metadata": {
        "colab": {
          "base_uri": "https://localhost:8080/"
        },
        "id": "tpJlZEr-iJQY",
        "outputId": "9a81dcaf-d43a-4674-87ba-8bf0a2657c56"
      },
      "outputs": [
        {
          "name": "stdout",
          "output_type": "stream",
          "text": [
            "train data= (60000, 28, 28, 1)\n",
            "test  data= (10000, 28, 28, 1)\n"
          ]
        }
      ],
      "source": [
        "# Translation of data\n",
        "X_Train4D = X_Train.reshape(X_Train.shape[0], 28, 28, 1).astype('float32')\n",
        "X_Test4D = X_Test.reshape(X_Test.shape[0], 28, 28, 1).astype('float32')\n",
        "\n",
        "print(\"train data=\",X_Train4D.shape)\n",
        "print(\"test  data=\",X_Test4D.shape)"
      ]
    },
    {
      "cell_type": "markdown",
      "metadata": {
        "id": "kK6Wmhsfhso5"
      },
      "source": [
        "### STEP2. 將 Features 進行標準化與 Label 的 Onehot encoding"
      ]
    },
    {
      "cell_type": "code",
      "execution_count": null,
      "metadata": {
        "colab": {
          "base_uri": "https://localhost:8080/"
        },
        "collapsed": true,
        "id": "tgELM7xehso5",
        "outputId": "ec18ad63-c467-4eb7-8e09-c82eade8401a"
      },
      "outputs": [
        {
          "name": "stdout",
          "output_type": "stream",
          "text": [
            "5\n",
            "[[0. 0. 0. 0. 0. 1. 0. 0. 0. 0.]]\n"
          ]
        }
      ],
      "source": [
        "# Standardize feature data\n",
        "X_Train4D_norm = X_Train4D / 255\n",
        "X_Test4D_norm = X_Test4D /255\n",
        "\n",
        "# Label Onehot-encoding\n",
        "y_TrainOneHot = to_categorical(y_Train)\n",
        "y_TestOneHot = to_categorical(y_Test)\n",
        "\n",
        "print(y_Train[0])\n",
        "print(y_TrainOneHot[:1])"
      ]
    },
    {
      "cell_type": "markdown",
      "metadata": {
        "id": "XHjaA5-AjSHh"
      },
      "source": [
        "# Plot"
      ]
    },
    {
      "cell_type": "code",
      "execution_count": null,
      "metadata": {
        "colab": {
          "base_uri": "https://localhost:8080/",
          "height": 439
        },
        "id": "_TlfnscekIY3",
        "outputId": "2276d7b7-e8be-48f1-e065-64066cb7a0c5"
      },
      "outputs": [
        {
          "data": {
            "image/png": "[encoded data removed]",
            "text/plain": [
              "<Figure size 1200x1400 with 10 Axes>"
            ]
          },
          "metadata": {},
          "output_type": "display_data"
        }
      ],
      "source": [
        "# 建立函數要來畫多圖的\n",
        "def plot_images_labels_prediction(images,labels,prediction,idx,num=10):\n",
        "\n",
        "  # 設定顯示圖形的大小\n",
        "  fig= plt.gcf()\n",
        "  fig.set_size_inches(12,14)\n",
        "\n",
        "  # 最多25張\n",
        "  if num>25:num=25\n",
        "\n",
        "  # 一張一張畫\n",
        "  for i in range(0,num):\n",
        "\n",
        "    # 建立子圖形5*5(五行五列)\n",
        "    ax=plt.subplot(5,5,i+1)\n",
        "\n",
        "    # 畫出子圖形\n",
        "    ax.imshow(images[idx],cmap='binary')\n",
        "\n",
        "    # 標題和label\n",
        "    title=\"label=\" +str(labels[idx])\n",
        "\n",
        "    # 如果有傳入預測結果也顯示\n",
        "    if len(prediction)>0:\n",
        "      title+=\",predict=\"+str(prediction[idx])\n",
        "\n",
        "    # 設定子圖形的標題大小\n",
        "    ax.set_title(title,fontsize=10)\n",
        "\n",
        "    # 設定不顯示刻度\n",
        "    ax.set_xticks([]);ax.set_yticks([])\n",
        "    idx+=1\n",
        "  plt.show()\n",
        "\n",
        "plot_images_labels_prediction(X_Train,y_Train,[],0,10)"
      ]
    },
    {
      "cell_type": "markdown",
      "metadata": {
        "id": "ge8qh2N2hso5"
      },
      "source": [
        "## 建立模型(卷積神經網絡 CNN)\n",
        "\n",
        "接著會依照下面流程圖建立模型:"
      ]
    },
    {
      "cell_type": "markdown",
      "metadata": {
        "id": "Kb9pGx4Nhso5"
      },
      "source": [
        "![cnn](https://4.bp.blogspot.com/-lo4ANmafiQM/WVpEeo68VPI/AAAAAAAAWxE/gVT33Q_dxqMxqZJfnbxS-fxl7ZdsntZcwCEwYBhgL/s1600/3812_1.png)"
      ]
    },
    {
      "cell_type": "markdown",
      "metadata": {
        "id": "R1v7grZehso5"
      },
      "source": [
        "### STEP1. 建立卷積層與池化層"
      ]
    },
    {
      "cell_type": "code",
      "execution_count": null,
      "metadata": {
        "collapsed": true,
        "id": "smCKa808hso5"
      },
      "outputs": [],
      "source": [
        "from keras.models import Sequential\n",
        "from keras.layers import Dense,Dropout,Flatten,Conv2D,MaxPool2D,, BatchNormalization\n",
        "\n",
        "model = Sequential()\n",
        "# Create CN layer 1\n",
        "model.add(Conv2D(filters=16,\n",
        "                 kernel_size=(5,5),\n",
        "                 padding='same',\n",
        "                 input_shape=(28,28,1),\n",
        "                 activation='relu',\n",
        "                 name='conv2d_1'))\n",
        "# Create Max-Pool 1\n",
        "model.add(MaxPool2D(pool_size=(2,2), name='max_pooling2d_1'))\n",
        "\n",
        "# Create CN layer 2\n",
        "model.add(Conv2D(filters=36,\n",
        "                 kernel_size=(5,5),\n",
        "                 padding='same',\n",
        "                 input_shape=(28,28,1),\n",
        "                 activation='relu',\n",
        "                 name='conv2d_2'))\n",
        "\n",
        "# Create Max-Pool 2\n",
        "model.add(MaxPool2D(pool_size=(2,2), name='max_pooling2d_2'))\n",
        "\n",
        "# Add Dropout layer 0.25\n",
        "model.add(Dropout(0.25, name='dropout_1'))"
      ]
    },
    {
      "cell_type": "markdown",
      "metadata": {
        "id": "Z4Ek0sY4hso6"
      },
      "source": [
        "### STEP2. 建立神經網路"
      ]
    },
    {
      "cell_type": "markdown",
      "metadata": {
        "id": "y-XLGXp9hso6"
      },
      "source": [
        "#### 建立平坦層\n",
        "下面程式碼建立平坦層, 將之前步驟已經建立的池化層2, 共有 36 個 7x7 維度的影像轉換成 1 維向量, 長度是 36x7x7 = 1764, 也就是對應到 1764 個神經元:"
      ]
    },
    {
      "cell_type": "code",
      "execution_count": null,
      "metadata": {
        "collapsed": true,
        "id": "dByC-CM0hso6"
      },
      "outputs": [],
      "source": [
        "model.add(Flatten(name='flatten_1'))"
      ]
    },
    {
      "cell_type": "markdown",
      "metadata": {
        "id": "d5ulvxtHhso6"
      },
      "source": [
        "#### 建立 Hidden layer"
      ]
    },
    {
      "cell_type": "code",
      "execution_count": null,
      "metadata": {
        "colab": {
          "base_uri": "https://localhost:8080/",
          "height": 219
        },
        "collapsed": true,
        "id": "X_LhW71_hso6",
        "outputId": "edbf5beb-ff97-4ae4-ea34-16e06a4e51a8"
      },
      "outputs": [
        {
          "ename": "NameError",
          "evalue": "name 'BatchNormalization' is not defined",
          "output_type": "error",
          "traceback": [
            "\u001b[0;31m---------------------------------------------------------------------------\u001b[0m",
            "\u001b[0;31mNameError\u001b[0m                                 Traceback (most recent call last)",
            "\u001b[0;32m<ipython-input-320-08e4dd5feb04>\u001b[0m in \u001b[0;36m<cell line: 6>\u001b[0;34m()\u001b[0m\n\u001b[1;32m      4\u001b[0m \u001b[0;31m# First hidden layer\u001b[0m\u001b[0;34m\u001b[0m\u001b[0;34m\u001b[0m\u001b[0m\n\u001b[1;32m      5\u001b[0m \u001b[0mmodel\u001b[0m\u001b[0;34m.\u001b[0m\u001b[0madd\u001b[0m\u001b[0;34m(\u001b[0m\u001b[0mDense\u001b[0m\u001b[0;34m(\u001b[0m\u001b[0;36m64\u001b[0m\u001b[0;34m,\u001b[0m \u001b[0mactivation\u001b[0m\u001b[0;34m=\u001b[0m\u001b[0;34m'relu'\u001b[0m\u001b[0;34m,\u001b[0m \u001b[0mname\u001b[0m\u001b[0;34m=\u001b[0m\u001b[0;34m'dense_1'\u001b[0m\u001b[0;34m)\u001b[0m\u001b[0;34m)\u001b[0m\u001b[0;34m\u001b[0m\u001b[0;34m\u001b[0m\u001b[0m\n\u001b[0;32m----> 6\u001b[0;31m \u001b[0mmodel\u001b[0m\u001b[0;34m.\u001b[0m\u001b[0madd\u001b[0m\u001b[0;34m(\u001b[0m\u001b[0mBatchNormalization\u001b[0m\u001b[0;34m(\u001b[0m\u001b[0mname\u001b[0m\u001b[0;34m=\u001b[0m\u001b[0;34m'batch_norm_1'\u001b[0m\u001b[0;34m)\u001b[0m\u001b[0;34m)\u001b[0m  \u001b[0;31m# Batch Normalization after the first layer\u001b[0m\u001b[0;34m\u001b[0m\u001b[0;34m\u001b[0m\u001b[0m\n\u001b[0m\u001b[1;32m      7\u001b[0m \u001b[0mmodel\u001b[0m\u001b[0;34m.\u001b[0m\u001b[0madd\u001b[0m\u001b[0;34m(\u001b[0m\u001b[0mDropout\u001b[0m\u001b[0;34m(\u001b[0m\u001b[0;36m0.5\u001b[0m\u001b[0;34m,\u001b[0m \u001b[0mname\u001b[0m\u001b[0;34m=\u001b[0m\u001b[0;34m'dropout_1'\u001b[0m\u001b[0;34m)\u001b[0m\u001b[0;34m)\u001b[0m  \u001b[0;31m# Ensure the name is unique\u001b[0m\u001b[0;34m\u001b[0m\u001b[0;34m\u001b[0m\u001b[0m\n\u001b[1;32m      8\u001b[0m \u001b[0;34m\u001b[0m\u001b[0m\n",
            "\u001b[0;31mNameError\u001b[0m: name 'BatchNormalization' is not defined"
          ]
        }
      ],
      "source": [
        "#model.add(Dense(512, activation='sigmoid', name='dense_1'))\n",
        "#model.add(Dropout(0.5, name='dropout_2'))\n",
        "\n",
        "# First hidden layer\n",
        "model.add(Dense(64, activation='relu', name='dense_1'))\n",
        "model.add(BatchNormalization(name='batch_norm_1'))  # Batch Normalization after the first layer\n",
        "model.add(Dropout(0.5, name='dropout_1'))  # Ensure the name is unique\n",
        "\n",
        "# Second hidden layer\n",
        "model.add(Dense(128, activation='relu', name='dense_2'))  # Reduced neurons\n",
        "model.add(BatchNormalization(name='batch_norm_2'))  # Batch Normalization after the second layer\n",
        "model.add(Dropout(0.5, name='dropout_2'))  # Ensure the name is unique\n",
        "\n",
        "# Third hidden layer (optional, you can add more if needed)\n",
        "model.add(Dense(64, activation='relu', name='dense_3'))  # Reduced neurons\n",
        "model.add(BatchNormalization(name='batch_norm_3'))  # Batch Normalization after the third layer\n",
        "model.add(Dropout(0.5, name='dropout_3'))  # Ensure the name is unique"
      ]
    },
    {
      "cell_type": "markdown",
      "metadata": {
        "id": "-3_mF7Jphbop"
      },
      "source": [
        "##model.add(Dense(128, activation='relu', name='dense_1'))\n",
        "##model.add(Dropout(0.5, name='dropout_2'))"
      ]
    },
    {
      "cell_type": "markdown",
      "metadata": {
        "id": "eb8WO_Mxhso6"
      },
      "source": [
        "#### 建立輸出層\n",
        "\n",
        "最後建立輸出層, 共有 10 個神經元, 對應到 0~9 共 10 個數字. 並使用 softmax 激活函數 進行轉換 (softmax 函數可以將神經元的輸出轉換成每一個數字的機率):"
      ]
    },
    {
      "cell_type": "code",
      "execution_count": null,
      "metadata": {
        "collapsed": true,
        "id": "QzfGe1xGhso6"
      },
      "outputs": [],
      "source": [
        "model.add(Dense(10, activation='softmax', name='output_layer'))"
      ]
    },
    {
      "cell_type": "markdown",
      "metadata": {
        "id": "Eq71T5RUhso6"
      },
      "source": [
        "### STEP3. 查看模型的摘要"
      ]
    },
    {
      "cell_type": "code",
      "execution_count": null,
      "metadata": {
        "id": "9qz1mRlShso6"
      },
      "outputs": [],
      "source": [
        "model.summary()\n",
        "print(\"\")"
      ]
    },
    {
      "cell_type": "markdown",
      "metadata": {
        "id": "C0B1DHPRhso6"
      },
      "source": [
        "![cnn](https://3.bp.blogspot.com/-fHmURvhoPGE/WVpEw-lv1HI/AAAAAAAAWxQ/oClbewBNDTc6YRL9iWbzL67ZwZ2FAWyygCLcBGAs/s1600/3591_3.PNG)"
      ]
    },
    {
      "cell_type": "markdown",
      "metadata": {
        "id": "eDYWB7P8hso6"
      },
      "source": [
        "## 進行訓練\n",
        "接著我們使用 Back Propagation 進行訓練。"
      ]
    },
    {
      "cell_type": "markdown",
      "metadata": {
        "id": "8sYvcK8Whso6"
      },
      "source": [
        "### STEP1. 定義訓練並進行訓練"
      ]
    },
    {
      "cell_type": "code",
      "execution_count": null,
      "metadata": {
        "id": "FsmT_RyXhso6"
      },
      "outputs": [],
      "source": [
        "# 定義訓練方式\n",
        "model.compile(loss='categorical_crossentropy', optimizer='adam', metrics=['accuracy'])\n",
        "\n",
        "# 開始訓練\n",
        "train_history = model.fit(x=X_Train4D_norm,\n",
        "              y=y_TrainOneHot,\n",
        "              validation_split=0.2,\n",
        "              epochs=50,\n",
        "              batch_size=300,#權重更新時使用的數據樣本數\n",
        "              verbose=1,#顯示進度條\n",
        "              )"
      ]
    },
    {
      "cell_type": "markdown",
      "metadata": {
        "id": "R90Vdn8hhso7"
      },
      "source": [
        "在 compile 方法中:\n",
        "* loss: 設定 Loss Function, 這邊選定 Cross Entropy 作為 Loss Function.\n",
        "* optimizer: 設定訓練時的優化方法, 在深度學習使用 adam (Adam: A Method for Stochastic Optimization) 可以更快收斂, 並提高準確率.\n",
        "* metrics: 設定評估模型的方式是 accuracy 準確率."
      ]
    },
    {
      "cell_type": "markdown",
      "metadata": {
        "id": "khmutuu2hso7"
      },
      "source": [
        "### STEP2. 畫出 accuracy 執行結果\n",
        "\n",
        "之前的訓練步驟產生的 accuracy 與 loss 都會記錄在 train_history 變數."
      ]
    },
    {
      "cell_type": "code",
      "execution_count": null,
      "metadata": {
        "collapsed": true,
        "id": "9mob-pkdhso7"
      },
      "outputs": [],
      "source": [
        "def plot_image(image):\n",
        "    fig = plt.gcf()\n",
        "    fig.set_size_inches(2,2)\n",
        "    plt.imshow(image, cmap='binary')\n",
        "    plt.show()\n",
        "\n",
        "def plot_images_labels_predict(images, labels, prediction, idx, num=10):\n",
        "    fig = plt.gcf()\n",
        "    fig.set_size_inches(12, 14)\n",
        "    if num > 25: num = 25\n",
        "    for i in range(0, num):\n",
        "        ax=plt.subplot(5,5, 1+i)\n",
        "        ax.imshow(images[idx], cmap='binary')\n",
        "        title = \"l=\" + str(labels[idx])\n",
        "        if len(prediction) > 0:\n",
        "            title = \"l={},p={}\".format(str(labels[idx]), str(prediction[idx]))\n",
        "        else:\n",
        "            title = \"l={}\".format(str(labels[idx]))\n",
        "        ax.set_title(title, fontsize=10)\n",
        "        ax.set_xticks([]); ax.set_yticks([])\n",
        "        idx+=1\n",
        "    plt.show()\n",
        "\n",
        "def show_train_history(train_history, train, validation):\n",
        "    plt.plot(train_history.history[train])\n",
        "    plt.plot(train_history.history[validation])\n",
        "    plt.title('Train History')\n",
        "    plt.ylabel(train)\n",
        "    plt.xlabel('Epoch')\n",
        "    plt.legend(['train', 'validation'], loc='upper left')\n",
        "    plt.show()"
      ]
    },
    {
      "cell_type": "markdown",
      "metadata": {
        "id": "jNNaYubfhso7"
      },
      "source": [
        "使用函數 show_train_history 顯示 accuracy 在 train 與 evaluation 的差異與 loss 在 train 與 evaluation 的差異如下:"
      ]
    },
    {
      "cell_type": "code",
      "execution_count": null,
      "metadata": {
        "id": "CXLQKOSOhso7"
      },
      "outputs": [],
      "source": [
        "show_train_history(train_history, 'accuracy', 'val_accuracy')"
      ]
    },
    {
      "cell_type": "code",
      "execution_count": null,
      "metadata": {
        "id": "bRVu4Qlnhso7"
      },
      "outputs": [],
      "source": [
        "show_train_history(train_history, 'loss', 'val_loss')"
      ]
    },
    {
      "cell_type": "markdown",
      "metadata": {
        "id": "OCSbpxQshso7"
      },
      "source": [
        "## 評估模型準確率與進行預測\n",
        "\n",
        "我們已經完成訓練, 接下來要使用 test 測試資料集來評估準確率。"
      ]
    },
    {
      "cell_type": "markdown",
      "metadata": {
        "id": "IgeHhkctpjaY"
      },
      "source": []
    },
    {
      "cell_type": "markdown",
      "metadata": {
        "id": "Nc3uGfGwhso7"
      },
      "source": [
        "### STEP1. 評估模型準確率"
      ]
    },
    {
      "cell_type": "code",
      "execution_count": null,
      "metadata": {
        "id": "tcPnL4NUhso_"
      },
      "outputs": [],
      "source": [
        "scores = model.evaluate(X_Test4D_norm, y_TestOneHot)\n",
        "print()\n",
        "print(\"\\t[Info] Accuracy of testing data = {:2.1f}%\".format(scores[1]*100.0))"
      ]
    },
    {
      "cell_type": "markdown",
      "metadata": {
        "id": "iZD36koOhso_"
      },
      "source": [
        "### STEP2. 預測結果"
      ]
    },
    {
      "cell_type": "code",
      "execution_count": null,
      "metadata": {
        "id": "FRHDstlmhso_"
      },
      "outputs": [],
      "source": [
        "print(\"\\t[Info] Making prediction of X_Test4D_norm\")\n",
        "prediction = np.argmax(model.predict(X_Test4D_norm), axis=-1)  # Making prediction and save result to prediction\n",
        "print()\n",
        "print(\"\\t[Info] Show 10 prediction result (From 240):\")\n",
        "print(\"%s\\n\" % (prediction[240:250]))"
      ]
    },
    {
      "cell_type": "markdown",
      "metadata": {
        "id": "UPGt13n2hso_"
      },
      "source": [
        "### STEP3. 顯示前 10 筆預測結果"
      ]
    },
    {
      "cell_type": "code",
      "execution_count": null,
      "metadata": {
        "id": "Wd4BpXcshso_"
      },
      "outputs": [],
      "source": [
        "plot_images_labels_predict(X_Test, y_Test, prediction, idx=240)"
      ]
    },
    {
      "cell_type": "markdown",
      "metadata": {
        "id": "iWzM4mEThso_"
      },
      "source": [
        "## 總結 (Conclusion)"
      ]
    },
    {
      "cell_type": "markdown",
      "metadata": {
        "id": "A8SZ3SGPhso_"
      },
      "source": [
        "在這篇文章中有一些個人學習到的一些有趣的重點:\n",
        "\n",
        "* Mnist的手寫資料集雖然很簡單, 但對很多不熟悉把圖像處理的人來說, Mnist絕對是一個合適用來做練習與講解的好資料集\n",
        "* 需要了解網絡的結構與不同網絡層輸入輸出的張量的結構才能夠清楚地構建一個對的模型"
      ]
    },
    {
      "cell_type": "markdown",
      "metadata": {
        "id": "FjtrALGjhso_"
      },
      "source": [
        "參考:\n",
        "* [程式扎記-Keras - MNIST 手寫數字辨識使用 CNN](http://puremonkey2010.blogspot.tw/2017/06/toolkit-keras-mnist.html)\n",
        "* [林大貴 - TensorFlow+Keras深度學習人工智慧實務應用](http://tensorflowkeras.blogspot.com)"
      ]
    },
    {
      "cell_type": "code",
      "execution_count": null,
      "metadata": {
        "collapsed": true,
        "id": "pkA8KnN0hspA"
      },
      "outputs": [],
      "source": []
    }
  ],
  "metadata": {
    "accelerator": "GPU",
    "colab": {
      "gpuType": "T4",
      "provenance": [],
      "include_colab_link": true
    },
    "kernelspec": {
      "display_name": "Python 3",
      "name": "python3"
    },
    "language_info": {
      "codemirror_mode": {
        "name": "ipython",
        "version": 3
      },
      "file_extension": ".py",
      "mimetype": "text/x-python",
      "name": "python",
      "nbconvert_exporter": "python",
      "pygments_lexer": "ipython3",
      "version": "3.6.1"
    }
  },
  "nbformat": 4,
  "nbformat_minor": 0
}